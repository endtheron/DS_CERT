{
 "cells": [
  {
   "cell_type": "markdown",
   "id": "5fd731a0-754d-4e17-9036-6b96452b0966",
   "metadata": {},
   "source": [
    "# Data Science Tools and Ecosystem"
   ]
  },
  {
   "cell_type": "markdown",
   "id": "fa53d89d-0c6f-4342-881f-7036749a7ec2",
   "metadata": {},
   "source": [
    "#### In this notbook, Data Science Tool and Ecosystem are summarized"
   ]
  },
  {
   "cell_type": "markdown",
   "id": "609e39a0-cbf2-4a23-ab7d-2683a33fa60d",
   "metadata": {},
   "source": [
    "**Objectives**\n",
    "* Learning SQL\n",
    "* Learning Python and Jupyter notebook\n",
    "* Learning the basics of some statistics and using them in data sciences\n",
    "* Learning Data Visualisation"
   ]
  },
  {
   "cell_type": "markdown",
   "id": "061ce1a0-cd35-467e-b20d-8d53e3c4702a",
   "metadata": {},
   "source": [
    "Some of the popular languages that Data Scientists use are \n",
    "1. Python\n",
    "2. SQL\n",
    "3. R\n",
    "4. C++"
   ]
  },
  {
   "cell_type": "markdown",
   "id": "15d75304-8578-4390-885f-ab8b6b8defa9",
   "metadata": {},
   "source": [
    "Some of the commonly used libraries used by Data Scienctists include:\n",
    "1. Pandas\n",
    "2. Numpy\n",
    "3. Matplotlib\n",
    "4. Seaborn"
   ]
  },
  {
   "cell_type": "markdown",
   "id": "85ca19f8-c815-4597-bb4d-d54fc746d189",
   "metadata": {},
   "source": [
    "| Data Science Tools   | \n",
    "| -------- | \n",
    "| Jupyter Notebook  | \n",
    "| SQL Workbench and Server | \n",
    "| Tableau |\n",
    "|Power BI|"
   ]
  },
  {
   "cell_type": "markdown",
   "id": "eea437f6-2622-431c-9288-5da85755c304",
   "metadata": {},
   "source": [
    "### Below are a few examples of evaluating arithmetic expressions in Python\n"
   ]
  },
  {
   "cell_type": "code",
   "execution_count": 3,
   "id": "edfe3441-da01-44c5-b29e-49a4b5b5ef88",
   "metadata": {},
   "outputs": [
    {
     "data": {
      "text/plain": [
       "17"
      ]
     },
     "execution_count": 3,
     "metadata": {},
     "output_type": "execute_result"
    }
   ],
   "source": [
    "#This is a simple arithmetic expression to multiply then add integers\n",
    "(3*4)+5"
   ]
  },
  {
   "cell_type": "code",
   "execution_count": 4,
   "id": "88ec8c3c-cd16-46c0-90ea-f5c886fe8b7e",
   "metadata": {},
   "outputs": [
    {
     "data": {
      "text/plain": [
       "3.3333333333333335"
      ]
     },
     "execution_count": 4,
     "metadata": {},
     "output_type": "execute_result"
    }
   ],
   "source": [
    "#This will cover 200 mniutes to hours by diving by 60\n",
    "200/60"
   ]
  },
  {
   "cell_type": "markdown",
   "id": "f0714401-56b6-4f05-bf0e-1587521a8549",
   "metadata": {},
   "source": [
    "## Author\n",
    "Krishanu Kalita"
   ]
  },
  {
   "cell_type": "code",
   "execution_count": null,
   "id": "e0674d7c-ae5d-4bad-b059-b30d6715584c",
   "metadata": {},
   "outputs": [],
   "source": []
  }
 ],
 "metadata": {
  "kernelspec": {
   "display_name": "Python 3 (ipykernel)",
   "language": "python",
   "name": "python3"
  },
  "language_info": {
   "codemirror_mode": {
    "name": "ipython",
    "version": 3
   },
   "file_extension": ".py",
   "mimetype": "text/x-python",
   "name": "python",
   "nbconvert_exporter": "python",
   "pygments_lexer": "ipython3",
   "version": "3.11.7"
  }
 },
 "nbformat": 4,
 "nbformat_minor": 5
}
